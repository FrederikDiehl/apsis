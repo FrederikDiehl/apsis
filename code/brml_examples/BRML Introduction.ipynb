{
 "cells": [
  {
   "cell_type": "markdown",
   "metadata": {},
   "source": [
    "# apsis on the BRML cluster"
   ]
  },
  {
   "cell_type": "markdown",
   "metadata": {},
   "source": [
    "Generally, apsis consists of a server, whose task it is to generate new candidates and receive updates, and several worker processes, who evaluate the actual machine learning algorithm and update the server.\n",
    "Right now, it's best if you start the server on your own computer, and the worker processes as jobs on the cluster.\n",
    "\n",
    "To start with, you need to install apsis and one requirement. To do so, first clone the apsis repo.\n",
    "    \n",
    "    git clone https://github.com/FrederikDiehl/apsis.git\n",
    "    \n",
    "And add it to the python path (or call sys.path.append(YOUR_PATH) everytime you need it).\n",
    "\n",
    "Additionally, you'll need a newer requests version; locally at least.\n",
    "\n",
    "    pip install --upgrade --user requests\n",
    "    \n",
    "Now, change to the cloned apsis directory, and change to the brml_dev branch\n",
    "\n",
    "    git checkout brml_dev\n",
    "\n",
    "I'll keep the current mostly-stable version with some hacks for brml there. You can then either start the server in a python shell, or with the REST_start_script in code/webservice. In the python shell (don't do this here, because it blocks the shell), do\n",
    "\n",
    "    from apsis.webservice.REST_start_script import start_rest\n",
    "    start_rest(port=5116)\n",
    "    \n",
    "Or whichever port you want to use. You can do the rest here, now.\n",
    "But, first of all, try to access HOSTNAME:5116 via browser. You should see something like this: \n",
    "\n",
    "    {\n",
    "      \"result\": \"failed\"\n",
    "    }\n",
    "    \n",
    "Congratulations; that means the server is working."
   ]
  },
  {
   "cell_type": "markdown",
   "metadata": {},
   "source": [
    "Now, first of all, let's look at the experiments page. The site to access (also via browser) is simply `HOSTNAME:5116/experiments`, the result should look like this:\n",
    "\n",
    "    {\n",
    "      \"result\": []\n",
    "    }\n",
    "    \n",
    "This means the result of our request (getting all experiment ids) was successful, but we have no experiments started. Let's change that!"
   ]
  },
  {
   "cell_type": "code",
   "execution_count": 3,
   "metadata": {
    "collapsed": true
   },
   "outputs": [],
   "source": [
    "from apsis_client.apsis_connection import Connection\n",
    "conn = Connection(server_address=\"http://CN-2:5116\")\n",
    "#conn = Connection(server_address=\"http://pc-hiwi6:5116\")"
   ]
  },
  {
   "cell_type": "markdown",
   "metadata": {},
   "source": [
    "This is the Connection object, which we'll use to interface with the server. I've used `PC-HIWI6:5116` as my hostname (and yes, the `http` is important); yours will vary. We can do the same we've done before, and look for experiment ids."
   ]
  },
  {
   "cell_type": "code",
   "execution_count": 4,
   "metadata": {
    "collapsed": false
   },
   "outputs": [
    {
     "data": {
      "text/plain": [
       "[]"
      ]
     },
     "execution_count": 4,
     "metadata": {},
     "output_type": "execute_result"
    }
   ],
   "source": [
    "conn.get_all_experiment_ids()"
   ]
  },
  {
   "cell_type": "markdown",
   "metadata": {
    "collapsed": true
   },
   "source": [
    "Not surprisingly, there still aren't any experiments. Time to change that; let's build a simple experiment. We need to define several parameters for that:\n",
    "* name: The human-readable name of the experiment.\n",
    "* optimizer: The string defining the optimizer, can be either `RandomSearch` or `BayOpt`\n",
    "* param_defs: The parameter definition dictionary, we'll come back to that in a bit.\n",
    "* optimizer_arguments: The parameters for how the optimizer is supposed to work.\n",
    "* minimization: Bool whether the problem is one of minimization or maximization.\n",
    "Let's begin defining them."
   ]
  },
  {
   "cell_type": "code",
   "execution_count": 5,
   "metadata": {
    "collapsed": true
   },
   "outputs": [],
   "source": [
    "name = \"BraninHoo\"\n",
    "optimizer = \"BayOpt\"\n",
    "minimization = True"
   ]
  },
  {
   "cell_type": "markdown",
   "metadata": {},
   "source": [
    "Now, parameter definitions is interesting. It is a dictionary with string keys (the parameter names) and a dictionary defining the parameter. The latter dictionary contains the `type` field (defining the type of parameter definition). The other entries are the kwargs-like field to initialize the parameter definitions. \n",
    "\n",
    "For example, let's say we have two parameters. `x` is a numeric parameter between 0 and 10, and `class` is one of `\"A\"`, `\"B\"` or `\"C\"`. This, we define like this:\n",
    "    \n",
    "    param_defs = {\n",
    "        \"x\": {\n",
    "            \"type\": \"MinMaxNumericParamDef\",\n",
    "            \"lower_bound\": 0,\n",
    "            \"upper_bound\"; 10\n",
    "        },\n",
    "        \"class\": {\n",
    "            \"type\": \"NominalParamDef\",\n",
    "            \"values\": [\"A\", \"B\", \"C\"]\n",
    "        }\n",
    "    }\n",
    "And that's it!\n",
    "\n",
    "For our example, we'll use the BraninHoo function, so we need two parameters, called `x` and `y` (or, sometimes, called `x_0` and `x_1`, but that's ugly to type). `x` is between -5 and 10, `y` between 0 and 15."
   ]
  },
  {
   "cell_type": "code",
   "execution_count": 6,
   "metadata": {
    "collapsed": true
   },
   "outputs": [],
   "source": [
    "param_defs = {\n",
    "        \"x\": {\n",
    "            \"type\": \"MinMaxNumericParamDef\", \n",
    "            \"lower_bound\": -5, \n",
    "            \"upper_bound\": 10\n",
    "        },\n",
    "        \"y\": {\n",
    "            \"type\": \"MinMaxNumericParamDef\", \n",
    "            \"lower_bound\": 0, \n",
    "            \"upper_bound\": 15},\n",
    "    }"
   ]
  },
  {
   "cell_type": "markdown",
   "metadata": {},
   "source": [
    "We'll ignore optimizer_params for now. Usually, you could use it to set the number of samples initially evaluated via RandomSearch instead of BayOpt, or the optimizer used for the acquisition function, or the acquisition function etc.\n",
    "\n",
    "Instead, we'll start with the initialization:"
   ]
  },
  {
   "cell_type": "code",
   "execution_count": 7,
   "metadata": {
    "collapsed": false
   },
   "outputs": [
    {
     "name": "stdout",
     "output_type": "stream",
     "text": [
      "f04d498d91dc4ec4ab0ae916d1bcc12e\n"
     ]
    }
   ],
   "source": [
    "exp_id = conn.init_experiment(name, optimizer, \n",
    "                              param_defs, minimization=minimization,\n",
    "                             blocking=True, timeout=10, )\n",
    "                              #optimizer_arguments={\"multiprocessing\": \"none\"})\n",
    "print(exp_id)"
   ]
  },
  {
   "cell_type": "markdown",
   "metadata": {},
   "source": [
    "The experiment id is important for specifiying the experiment which you want to update, from which you want to get results etc. It can be set in `init_experiment`, but in doing so you have to be extremely careful not to use one already in use. If not specified, it's a newly generated `uuid4` hex, and is guarenteed not to occur multiple times.\n",
    "\n",
    "Now, we had looked at all available experiment IDs before (when no experiment had been initialized). Let's do it again now."
   ]
  },
  {
   "cell_type": "code",
   "execution_count": 8,
   "metadata": {
    "collapsed": false
   },
   "outputs": [
    {
     "data": {
      "text/plain": [
       "[u'f04d498d91dc4ec4ab0ae916d1bcc12e']"
      ]
     },
     "execution_count": 8,
     "metadata": {},
     "output_type": "execute_result"
    }
   ],
   "source": [
    "conn.get_all_experiment_ids()"
   ]
  },
  {
   "cell_type": "markdown",
   "metadata": {},
   "source": [
    "As you can see, the experiment now exists. Are there candidates already evaluated? Of course now, which the following can show us:"
   ]
  },
  {
   "cell_type": "code",
   "execution_count": 16,
   "metadata": {
    "collapsed": false
   },
   "outputs": [
    {
     "data": {
      "text/plain": [
       "{u'finished': [{u'cost': None,\n",
       "   u'id': u'465b65caa98b4e5a993577704533ce2f',\n",
       "   u'params': {u'x': 8.572377045489517, u'y': 5.655702685834349},\n",
       "   u'result': 18.16465392594631,\n",
       "   u'worker_information': None},\n",
       "  {u'cost': None,\n",
       "   u'id': u'b8c52178a37648eca0e2866e3a3d0aa2',\n",
       "   u'params': {u'x': -0.9746260851257036, u'y': 0.6496615925539462},\n",
       "   u'result': 64.73097851994237,\n",
       "   u'worker_information': None},\n",
       "  {u'cost': None,\n",
       "   u'id': u'fb7b810cc81d421188aa5c6c3f416148',\n",
       "   u'params': {u'x': 3.4701007781911937, u'y': 11.12570707015112},\n",
       "   u'result': 83.5932096276205,\n",
       "   u'worker_information': None},\n",
       "  {u'cost': None,\n",
       "   u'id': u'b54c33fe45a74a0aaf88fec29bbe2934',\n",
       "   u'params': {u'x': -1.914426542197952, u'y': 13.65801308294684},\n",
       "   u'result': 23.885073134980047,\n",
       "   u'worker_information': None},\n",
       "  {u'cost': None,\n",
       "   u'id': u'1de7380c0d7d4c34bbddb685be880e50',\n",
       "   u'params': {u'x': -4.773473000052572, u'y': 5.151492464204553},\n",
       "   u'result': 140.30300297749193,\n",
       "   u'worker_information': None},\n",
       "  {u'cost': None,\n",
       "   u'id': u'b208bdc7edcc4df1ac6855285881f0d8',\n",
       "   u'params': {u'x': -3.1098101655888826, u'y': 5.303208075379116},\n",
       "   u'result': 47.95122895777044,\n",
       "   u'worker_information': None},\n",
       "  {u'cost': None,\n",
       "   u'id': u'01ef9b7df81e4efb836240ee59d10f90',\n",
       "   u'params': {u'x': 6.57247127335339, u'y': 10.721952657191457},\n",
       "   u'result': 111.40024917065212,\n",
       "   u'worker_information': None},\n",
       "  {u'cost': None,\n",
       "   u'id': u'e8904260152842378989ee7c81ebc2b7',\n",
       "   u'params': {u'x': 2.26581956933137, u'y': 8.890044537055301},\n",
       "   u'result': 37.874467090648025,\n",
       "   u'worker_information': None},\n",
       "  {u'cost': None,\n",
       "   u'id': u'35a538e524e94191829baec53378f9ed',\n",
       "   u'params': {u'x': 9.77017861536785, u'y': 0.4782023701520116},\n",
       "   u'result': 6.271388692460636,\n",
       "   u'worker_information': None},\n",
       "  {u'cost': None,\n",
       "   u'id': u'a02d5a70de644e68b9cca2c0003d573b',\n",
       "   u'params': {u'x': 1.9765291136930676, u'y': 9.501231997983888},\n",
       "   u'result': 43.93790782781383,\n",
       "   u'worker_information': None},\n",
       "  {u'cost': None,\n",
       "   u'id': u'f9b55279f0344d2f969c862745d5d947',\n",
       "   u'params': {u'x': 8.06160849868208, u'y': 4.802302677317845},\n",
       "   u'result': 18.499520147653776,\n",
       "   u'worker_information': None},\n",
       "  {u'cost': None,\n",
       "   u'id': u'b372f2e884694ee4aa5262cd593ac2a5',\n",
       "   u'params': {u'x': 9.609916374680791, u'y': 2.549854377279748},\n",
       "   u'result': 0.5693316177854353,\n",
       "   u'worker_information': None},\n",
       "  {u'cost': None,\n",
       "   u'id': u'7f5e113cf0054bd5afeff60c835e1c18',\n",
       "   u'params': {u'x': 9.841679992802623, u'y': 0.36675352597234534},\n",
       "   u'result': 7.38246748419829,\n",
       "   u'worker_information': None},\n",
       "  {u'cost': None,\n",
       "   u'id': u'056c6d0bc05547b99bfbc65aebfbaed0',\n",
       "   u'params': {u'x': 9.606242733424384, u'y': 0.05983930533249082},\n",
       "   u'result': 7.17322441517884,\n",
       "   u'worker_information': None},\n",
       "  {u'cost': None,\n",
       "   u'id': u'e0a49ab17e9f4eab9a2bd886923bd7ff',\n",
       "   u'params': {u'x': 9.304850809582225, u'y': 0.9557949836912383},\n",
       "   u'result': 2.482977397913711,\n",
       "   u'worker_information': None},\n",
       "  {u'cost': None,\n",
       "   u'id': u'b89e15c2babf4df6bcaf07c2e49eed87',\n",
       "   u'params': {u'x': 8.662073294204237, u'y': 0.19951679453390825},\n",
       "   u'result': 5.972746814425939,\n",
       "   u'worker_information': None},\n",
       "  {u'cost': None,\n",
       "   u'id': u'4887fac60f9b40ecb57a9d60c536fcc5',\n",
       "   u'params': {u'x': 7.470989616476455, u'y': 4.690204694993851},\n",
       "   u'result': 24.946074012810726,\n",
       "   u'worker_information': None},\n",
       "  {u'cost': None,\n",
       "   u'id': u'418c6e5134854471a8c27b09e1b983b9',\n",
       "   u'params': {u'x': 9.883559841746223, u'y': 0.5503765142151751},\n",
       "   u'result': 6.860832982291317,\n",
       "   u'worker_information': None},\n",
       "  {u'cost': None,\n",
       "   u'id': u'deee12628641476fa89dea98ed4cd96a',\n",
       "   u'params': {u'x': 9.794498959849362, u'y': 0.47338090465998295},\n",
       "   u'result': 6.480957768240787,\n",
       "   u'worker_information': None},\n",
       "  {u'cost': None,\n",
       "   u'id': u'a09aac81ea1b4bc0ba69fa3e494d21c6',\n",
       "   u'params': {u'x': 9.909633222919139, u'y': 0.54799628291478},\n",
       "   u'result': 7.104257145269622,\n",
       "   u'worker_information': None},\n",
       "  {u'cost': None,\n",
       "   u'id': u'bab05887c97c4142b42f3c18cad53b4c',\n",
       "   u'params': {u'x': 9.592819305907229, u'y': 0.005047021516350059},\n",
       "   u'result': 7.37318192566463,\n",
       "   u'worker_information': None},\n",
       "  {u'cost': None,\n",
       "   u'id': u'ceb4696f69334a99a0c4799dfb7633a7',\n",
       "   u'params': {u'x': 9.39940443209453, u'y': 4.913782903755909},\n",
       "   u'result': 6.453084181896825,\n",
       "   u'worker_information': None},\n",
       "  {u'cost': None,\n",
       "   u'id': u'0d259e71707545268e7099ba538826d0',\n",
       "   u'params': {u'x': 9.746137594373462, u'y': 0.1481397890882219},\n",
       "   u'result': 7.708207015937212,\n",
       "   u'worker_information': None},\n",
       "  {u'cost': None,\n",
       "   u'id': u'71835b1af23a4e9385415a76e7a3fa07',\n",
       "   u'params': {u'x': 9.972279722834237, u'y': 0.8915266587272525},\n",
       "   u'result': 6.144618347373719,\n",
       "   u'worker_information': None},\n",
       "  {u'cost': None,\n",
       "   u'id': u'fb9ce38384b04819bdc0235cfe61e5f3',\n",
       "   u'params': {u'x': 9.735924809388182, u'y': 0.6250317794416826},\n",
       "   u'result': 5.3742949860891684,\n",
       "   u'worker_information': None},\n",
       "  {u'cost': None,\n",
       "   u'id': u'9f4f6975f04a45ed9d89bc31c509ef1f',\n",
       "   u'params': {u'x': 9.696086961261347, u'y': 1.1548565325216336},\n",
       "   u'result': 3.178069278114675,\n",
       "   u'worker_information': None}],\n",
       " u'pending': [],\n",
       " u'working': []}"
      ]
     },
     "execution_count": 16,
     "metadata": {},
     "output_type": "execute_result"
    }
   ],
   "source": [
    "conn.get_all_candidates(exp_id)"
   ]
  },
  {
   "cell_type": "markdown",
   "metadata": {},
   "source": [
    "This function shows us three lists of candidates (currently empty). `finished` are all candidates that have been evaluated and are, well, finished. `pending` are candidates which have been generated, have possibly begun evaluating and then been paused. `working` are candidates currently in progress.\n",
    "\n",
    "How do we get candidates? Simple, via the `get_next_candidate` function:"
   ]
  },
  {
   "cell_type": "code",
   "execution_count": 17,
   "metadata": {
    "collapsed": false
   },
   "outputs": [
    {
     "name": "stdout",
     "output_type": "stream",
     "text": [
      "{u'cost': None, u'params': {u'y': 0.13325249050574528, u'x': 9.51675049160615}, u'id': u'c8d89a859f5b440c82d258558fcd28ae', u'worker_information': None, u'result': None}\n"
     ]
    }
   ],
   "source": [
    "cand = conn.get_next_candidate(exp_id)\n",
    "print(cand)"
   ]
  },
  {
   "cell_type": "markdown",
   "metadata": {},
   "source": [
    "A candidate is nothing but a dictionary with the following fields:\n",
    "* cost: The cost of evaluating this candidate. Is currently unused, but can be used for statistics or - later - for Expected Improvement Per Second.\n",
    "* params: The parameter dictionary. This contains one entry for each parameter, with each value being the parameter value for this candidate.\n",
    "* id: The id of the candidate. Not really important for you.\n",
    "* worker_information: This can be used to specify continuation information, for example. It will never be changed by apsis.\n",
    "* result: The interesting field. The result of your evaluation.\n",
    "\n",
    "Now it's time for your work; for evaluating the parameters. Here, let's use the BraninHoo function."
   ]
  },
  {
   "cell_type": "code",
   "execution_count": 18,
   "metadata": {
    "collapsed": false
   },
   "outputs": [],
   "source": [
    "import math\n",
    "def branin_func(x, y, a=1, b=5.1/(4*math.pi**2), c=5/math.pi, r=6, s=10,\n",
    "                t=1/(8*math.pi)):\n",
    "        # see http://www.sfu.ca/~ssurjano/branin.html.\n",
    "        result = a*(y-b*x**2+c*x-r)**2 + s*(1-t)*math.cos(x)+s\n",
    "        return result"
   ]
  },
  {
   "cell_type": "markdown",
   "metadata": {},
   "source": [
    "And let's extract the parameters. Depending on your evaluation function, you can also just use the `param` entry dictionary directly (for example for sklearn functions)."
   ]
  },
  {
   "cell_type": "code",
   "execution_count": 19,
   "metadata": {
    "collapsed": false
   },
   "outputs": [
    {
     "name": "stdout",
     "output_type": "stream",
     "text": [
      "6.29690869373\n"
     ]
    }
   ],
   "source": [
    "x = cand[\"params\"][\"x\"]\n",
    "y = cand[\"params\"][\"y\"]\n",
    "result = branin_func(x, y)\n",
    "print(result)"
   ]
  },
  {
   "cell_type": "markdown",
   "metadata": {},
   "source": [
    "Now, we'll just update the candidate with the result, and update the server:"
   ]
  },
  {
   "cell_type": "code",
   "execution_count": 20,
   "metadata": {
    "collapsed": false
   },
   "outputs": [
    {
     "data": {
      "text/plain": [
       "u'success'"
      ]
     },
     "execution_count": 20,
     "metadata": {},
     "output_type": "execute_result"
    }
   ],
   "source": [
    "cand[\"result\"] = result\n",
    "conn.update(exp_id, cand, status=\"finished\")"
   ]
  },
  {
   "cell_type": "markdown",
   "metadata": {},
   "source": [
    "And let's look at the candidates again:"
   ]
  },
  {
   "cell_type": "code",
   "execution_count": 14,
   "metadata": {
    "collapsed": false
   },
   "outputs": [
    {
     "data": {
      "text/plain": [
       "{u'finished': [{u'cost': None,\n",
       "   u'id': u'465b65caa98b4e5a993577704533ce2f',\n",
       "   u'params': {u'x': 8.572377045489517, u'y': 5.655702685834349},\n",
       "   u'result': 18.16465392594631,\n",
       "   u'worker_information': None}],\n",
       " u'pending': [],\n",
       " u'working': []}"
      ]
     },
     "execution_count": 14,
     "metadata": {},
     "output_type": "execute_result"
    }
   ],
   "source": [
    "conn.get_all_candidates(exp_id)"
   ]
  },
  {
   "cell_type": "markdown",
   "metadata": {},
   "source": [
    "Yay, it worked!\n",
    "And that's basically it. Every worker only has to use a few of the lines above (initializing the connection, getting the next candidate, evaluating and update)."
   ]
  },
  {
   "cell_type": "code",
   "execution_count": null,
   "metadata": {
    "collapsed": true
   },
   "outputs": [],
   "source": []
  },
  {
   "cell_type": "code",
   "execution_count": 15,
   "metadata": {
    "collapsed": false
   },
   "outputs": [
    {
     "name": "stdout",
     "output_type": "stream",
     "text": [
      "0\n",
      "1\n",
      "2\n",
      "3\n",
      "4\n",
      "0\n",
      "1\n",
      "2\n",
      "3\n",
      "4\n",
      "Finished 0\n",
      "0\n",
      "1\n",
      "2\n",
      "3\n",
      "4\n",
      "0\n",
      "1\n",
      "2\n",
      "3\n",
      "4\n",
      "Finished 1\n",
      "0\n",
      "1\n",
      "2\n",
      "3\n",
      "4\n",
      "0\n",
      "1\n",
      "2\n",
      "3\n",
      "4\n",
      "Finished 2\n",
      "0\n",
      "1\n",
      "2\n",
      "3\n",
      "4\n",
      "0\n",
      "1\n",
      "2\n",
      "3\n",
      "4\n",
      "Finished 3\n",
      "0\n",
      "1\n",
      "2\n",
      "3\n",
      "4\n",
      "0\n",
      "1\n",
      "2\n",
      "3\n",
      "4\n",
      "Finished 4\n"
     ]
    }
   ],
   "source": [
    "import time\n",
    "\n",
    "for j in range(5):\n",
    "    candidates = []\n",
    "    for i in range(5):\n",
    "        candidates.append(conn.get_next_candidate(exp_id))\n",
    "        print(i)\n",
    "    for i in range(len(candidates)):\n",
    "        x = candidates[i][\"params\"][\"x\"]\n",
    "        y = candidates[i][\"params\"][\"y\"]\n",
    "        result = branin_func(x, y)\n",
    "        candidates[i][\"result\"] = result\n",
    "        conn.update(exp_id, candidates[i], status=\"finished\")\n",
    "        print(i)\n",
    "    print(\"Finished %i\" %j)"
   ]
  },
  {
   "cell_type": "code",
   "execution_count": null,
   "metadata": {
    "collapsed": false
   },
   "outputs": [],
   "source": [
    "for cand in conn.get_all_candidates(exp_id)[\"finished\"]:\n",
    "    print(cand)"
   ]
  },
  {
   "cell_type": "code",
   "execution_count": null,
   "metadata": {
    "collapsed": true
   },
   "outputs": [],
   "source": []
  }
 ],
 "metadata": {
  "kernelspec": {
   "display_name": "Python 2",
   "language": "python",
   "name": "python2"
  },
  "language_info": {
   "codemirror_mode": {
    "name": "ipython",
    "version": 2
   },
   "file_extension": ".py",
   "mimetype": "text/x-python",
   "name": "python",
   "nbconvert_exporter": "python",
   "pygments_lexer": "ipython2",
   "version": "2.7.10"
  }
 },
 "nbformat": 4,
 "nbformat_minor": 0
}
