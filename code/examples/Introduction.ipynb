{
 "cells": [
  {
   "cell_type": "markdown",
   "metadata": {},
   "source": [
    "# apsis on the BRML cluster"
   ]
  },
  {
   "cell_type": "markdown",
   "metadata": {},
   "source": [
    "Generally, apsis consists of a server, whose task it is to generate new candidates and receive updates, and several worker processes, who evaluate the actual machine learning algorithm and update the server.\n",
    "Right now, it's best if you start the server on your own computer, and the worker processes as jobs on the cluster.\n",
    "\n",
    "To start with, you need to install apsis and one requirement. To do so, first clone the apsis repo.\n",
    "    \n",
    "    git clone https://github.com/FrederikDiehl/apsis.git\n",
    "    \n",
    "And add it to the python path (or call sys.path.append(YOUR_PATH) everytime you need it).\n",
    "\n",
    "Additionally, you'll need a newer requests version; locally at least.\n",
    "\n",
    "    pip install --upgrade --user requests\n",
    "    \n",
    "Now, change to the cloned apsis directory, and change to the brml_dev branch\n",
    "\n",
    "    git checkout brml_dev\n",
    "\n",
    "I'll keep the current mostly-stable version with some hacks for brml there. You can then either start the server in a python shell, or with the REST_start_script in code/webservice. In the python shell (don't do this here, because it blocks the shell), do\n",
    "\n",
    "    from apsis.webservice.REST_start_script import start_rest\n",
    "    start_rest(port=5000)\n",
    "    \n",
    "Or whichever port you want to use. You can do the rest here, now.\n",
    "But, first of all, try to access HOSTNAME:5000 via browser. You should see an overview page.\n",
    "\n",
    "Congratulations; that means the server is working."
   ]
  },
  {
   "cell_type": "markdown",
   "metadata": {},
   "source": [
    "Now, first of all, let's look at the experiments page. The site to access (also via browser) is simply `HOSTNAME:5000/experiments`, the result should look like this:\n",
    "\n",
    "    {\n",
    "      \"result\": []\n",
    "    }\n",
    "    \n",
    "This means the result of our request (getting all experiment ids) was successful, but we have no experiments started. Let's change that!"
   ]
  },
  {
   "cell_type": "code",
   "execution_count": 1,
   "metadata": {
    "collapsed": true
   },
   "outputs": [],
   "source": [
    "from apsis_client.apsis_connection import Connection\n",
    "conn = Connection(server_address=\"http://localhost:5000\")"
   ]
  },
  {
   "cell_type": "markdown",
   "metadata": {},
   "source": [
    "This is the Connection object, which we'll use to interface with the server. I've used `PC-HIWI6:5116` as my hostname (and yes, the `http` is important); yours will vary. We can do the same we've done before, and look for experiment ids."
   ]
  },
  {
   "cell_type": "code",
   "execution_count": 2,
   "metadata": {
    "collapsed": false
   },
   "outputs": [
    {
     "data": {
      "text/plain": [
       "[]"
      ]
     },
     "execution_count": 2,
     "metadata": {},
     "output_type": "execute_result"
    }
   ],
   "source": [
    "conn.get_all_experiment_ids()"
   ]
  },
  {
   "cell_type": "markdown",
   "metadata": {
    "collapsed": true
   },
   "source": [
    "Not surprisingly, there still aren't any experiments. Time to change that; let's build a simple experiment. We need to define several parameters for that:\n",
    "* name: The human-readable name of the experiment.\n",
    "* optimizer: The string defining the optimizer, can be either `RandomSearch` or `BayOpt`\n",
    "* param_defs: The parameter definition dictionary, we'll come back to that in a bit.\n",
    "* optimizer_arguments: The parameters for how the optimizer is supposed to work.\n",
    "* minimization: Bool whether the problem is one of minimization or maximization.\n",
    "Let's begin defining them."
   ]
  },
  {
   "cell_type": "code",
   "execution_count": 3,
   "metadata": {
    "collapsed": true
   },
   "outputs": [],
   "source": [
    "name = \"BraninHoo\"\n",
    "optimizer = \"BayOpt\"\n",
    "minimization = True"
   ]
  },
  {
   "cell_type": "markdown",
   "metadata": {},
   "source": [
    "Now, parameter definitions is interesting. It is a dictionary with string keys (the parameter names) and a dictionary defining the parameter. The latter dictionary contains the `type` field (defining the type of parameter definition). The other entries are the kwargs-like field to initialize the parameter definitions. \n",
    "\n",
    "For example, let's say we have two parameters. `x` is a numeric parameter between 0 and 10, and `class` is one of `\"A\"`, `\"B\"` or `\"C\"`. This, we define like this:\n",
    "    \n",
    "    param_defs = {\n",
    "        \"x\": {\n",
    "            \"type\": \"MinMaxNumericParamDef\",\n",
    "            \"lower_bound\": 0,\n",
    "            \"upper_bound\"; 10\n",
    "        },\n",
    "        \"class\": {\n",
    "            \"type\": \"NominalParamDef\",\n",
    "            \"values\": [\"A\", \"B\", \"C\"]\n",
    "        }\n",
    "    }\n",
    "And that's it!\n",
    "\n",
    "For our example, we'll use the BraninHoo function, so we need two parameters, called `x` and `y` (or, sometimes, called `x_0` and `x_1`, but that's ugly to type). `x` is between -5 and 10, `y` between 0 and 15."
   ]
  },
  {
   "cell_type": "code",
   "execution_count": 4,
   "metadata": {
    "collapsed": true
   },
   "outputs": [],
   "source": [
    "param_defs = {\n",
    "        \"x\": {\n",
    "            \"type\": \"MinMaxNumericParamDef\", \n",
    "            \"lower_bound\": -5, \n",
    "            \"upper_bound\": 10\n",
    "        },\n",
    "        \"y\": {\n",
    "            \"type\": \"MinMaxNumericParamDef\", \n",
    "            \"lower_bound\": 0, \n",
    "            \"upper_bound\": 15},\n",
    "    }"
   ]
  },
  {
   "cell_type": "markdown",
   "metadata": {},
   "source": [
    "We'll ignore optimizer_params for now. Usually, you could use it to set the number of samples initially evaluated via RandomSearch instead of BayOpt, or the optimizer used for the acquisition function, or the acquisition function etc.\n",
    "\n",
    "Instead, we'll start with the initialization:"
   ]
  },
  {
   "cell_type": "code",
   "execution_count": 5,
   "metadata": {
    "collapsed": false
   },
   "outputs": [
    {
     "name": "stdout",
     "output_type": "stream",
     "text": [
      "168e07da7e084dbaa43a55d46cc85913\n"
     ]
    }
   ],
   "source": [
    "exp_id = conn.init_experiment(name, optimizer, \n",
    "                              param_defs, minimization=minimization)\n",
    "print(exp_id)"
   ]
  },
  {
   "cell_type": "markdown",
   "metadata": {},
   "source": [
    "The experiment id is important for specifiying the experiment which you want to update, from which you want to get results etc. It can be set in `init_experiment`, but in doing so you have to be extremely careful not to use one already in use. If not specified, it's a newly generated `uuid4` hex, and is guarenteed not to occur multiple times.\n",
    "\n",
    "Now, we had looked at all available experiment IDs before (when no experiment had been initialized). Let's do it again now."
   ]
  },
  {
   "cell_type": "code",
   "execution_count": 6,
   "metadata": {
    "collapsed": false
   },
   "outputs": [
    {
     "data": {
      "text/plain": [
       "[u'168e07da7e084dbaa43a55d46cc85913']"
      ]
     },
     "execution_count": 6,
     "metadata": {},
     "output_type": "execute_result"
    }
   ],
   "source": [
    "conn.get_all_experiment_ids()"
   ]
  },
  {
   "cell_type": "markdown",
   "metadata": {},
   "source": [
    "As you can see, the experiment now exists. Are there candidates already evaluated? Of course now, which the following can show us:"
   ]
  },
  {
   "cell_type": "code",
   "execution_count": 7,
   "metadata": {
    "collapsed": false
   },
   "outputs": [
    {
     "data": {
      "text/plain": [
       "{u'finished': [], u'pending': [], u'working': []}"
      ]
     },
     "execution_count": 7,
     "metadata": {},
     "output_type": "execute_result"
    }
   ],
   "source": [
    "conn.get_all_candidates(exp_id)"
   ]
  },
  {
   "cell_type": "markdown",
   "metadata": {},
   "source": [
    "This function shows us three lists of candidates (currently empty). `finished` are all candidates that have been evaluated and are, well, finished. `pending` are candidates which have been generated, have possibly begun evaluating and then been paused. `working` are candidates currently in progress.\n",
    "\n",
    "How do we get candidates? Simple, via the `get_next_candidate` function:"
   ]
  },
  {
   "cell_type": "code",
   "execution_count": 8,
   "metadata": {
    "collapsed": false
   },
   "outputs": [
    {
     "name": "stdout",
     "output_type": "stream",
     "text": [
      "{u'last_update_time': 1471936933.760986, u'cand_id': u'42cc5b20e6c847dc90b678427d4915ab', u'failed': False, u'cost': None, u'params': {u'y': 10.5708044312397, u'x': 5.867099186116734}, u'result': None, u'generated_time': 1471936929.83543, u'worker_information': None}\n"
     ]
    }
   ],
   "source": [
    "cand = conn.get_next_candidate(exp_id)\n",
    "print(cand)"
   ]
  },
  {
   "cell_type": "markdown",
   "metadata": {},
   "source": [
    "A candidate is nothing but a dictionary with the following fields:\n",
    "* cost: The cost of evaluating this candidate. Is currently unused, but can be used for statistics or - later - for Expected Improvement Per Second.\n",
    "* params: The parameter dictionary. This contains one entry for each parameter, with each value being the parameter value for this candidate.\n",
    "* id: The id of the candidate. Not really important for you.\n",
    "* worker_information: This can be used to specify continuation information, for example. It will never be changed by apsis.\n",
    "* result: The interesting field. The result of your evaluation.\n",
    "\n",
    "Now it's time for your work; for evaluating the parameters. Here, let's use the BraninHoo function."
   ]
  },
  {
   "cell_type": "code",
   "execution_count": 9,
   "metadata": {
    "collapsed": false
   },
   "outputs": [],
   "source": [
    "import math\n",
    "def branin_func(x, y, a=1, b=5.1/(4*math.pi**2), c=5/math.pi, r=6, s=10,\n",
    "                t=1/(8*math.pi)):\n",
    "        # see http://www.sfu.ca/~ssurjano/branin.html.\n",
    "        result = a*(y-b*x**2+c*x-r)**2 + s*(1-t)*math.cos(x)+s\n",
    "        return result"
   ]
  },
  {
   "cell_type": "markdown",
   "metadata": {},
   "source": [
    "And let's extract the parameters. Depending on your evaluation function, you can also just use the `param` entry dictionary directly (for example for sklearn functions)."
   ]
  },
  {
   "cell_type": "code",
   "execution_count": 10,
   "metadata": {
    "collapsed": false
   },
   "outputs": [
    {
     "name": "stdout",
     "output_type": "stream",
     "text": [
      "108.306293664\n"
     ]
    }
   ],
   "source": [
    "x = cand[\"params\"][\"x\"]\n",
    "y = cand[\"params\"][\"y\"]\n",
    "result = branin_func(x, y)\n",
    "print(result)"
   ]
  },
  {
   "cell_type": "markdown",
   "metadata": {},
   "source": [
    "Now, we'll just update the candidate with the result, and update the server:"
   ]
  },
  {
   "cell_type": "code",
   "execution_count": 11,
   "metadata": {
    "collapsed": false
   },
   "outputs": [
    {
     "data": {
      "text/plain": [
       "u'success'"
      ]
     },
     "execution_count": 11,
     "metadata": {},
     "output_type": "execute_result"
    }
   ],
   "source": [
    "cand[\"result\"] = result\n",
    "conn.update(exp_id, cand, status=\"finished\")"
   ]
  },
  {
   "cell_type": "markdown",
   "metadata": {},
   "source": [
    "And let's look at the candidates again:"
   ]
  },
  {
   "cell_type": "code",
   "execution_count": 12,
   "metadata": {
    "collapsed": false
   },
   "outputs": [
    {
     "data": {
      "text/plain": [
       "{u'finished': [{u'cand_id': u'42cc5b20e6c847dc90b678427d4915ab',\n",
       "   u'cost': None,\n",
       "   u'failed': False,\n",
       "   u'generated_time': 1471936929.83543,\n",
       "   u'last_update_time': 1471936952.117545,\n",
       "   u'params': {u'x': 5.867099186116734, u'y': 10.5708044312397},\n",
       "   u'result': 108.30629366385314,\n",
       "   u'worker_information': None}],\n",
       " u'pending': [],\n",
       " u'working': []}"
      ]
     },
     "execution_count": 12,
     "metadata": {},
     "output_type": "execute_result"
    }
   ],
   "source": [
    "conn.get_all_candidates(exp_id)"
   ]
  },
  {
   "cell_type": "markdown",
   "metadata": {},
   "source": [
    "Yay, it worked!\n",
    "And that's basically it. Every worker only has to use a few of the lines above (initializing the connection, getting the next candidate, evaluating and update)."
   ]
  },
  {
   "cell_type": "code",
   "execution_count": 13,
   "metadata": {
    "collapsed": false
   },
   "outputs": [],
   "source": [
    "def eval_one_cand():\n",
    "    cand = conn.get_next_candidate(exp_id)\n",
    "    x = cand[\"params\"][\"x\"]\n",
    "    y = cand[\"params\"][\"y\"]\n",
    "    result = branin_func(x, y)\n",
    "    cand[\"result\"] = result\n",
    "    conn.update(exp_id, cand, status=\"finished\")"
   ]
  },
  {
   "cell_type": "code",
   "execution_count": 14,
   "metadata": {
    "collapsed": false
   },
   "outputs": [],
   "source": [
    "for i in range(20):\n",
    "    eval_one_cand()"
   ]
  },
  {
   "cell_type": "code",
   "execution_count": null,
   "metadata": {
    "collapsed": true
   },
   "outputs": [],
   "source": []
  },
  {
   "cell_type": "code",
   "execution_count": null,
   "metadata": {
    "collapsed": true
   },
   "outputs": [],
   "source": []
  }
 ],
 "metadata": {
  "kernelspec": {
   "display_name": "Python 2",
   "language": "python2",
   "name": "python2"
  },
  "language_info": {
   "codemirror_mode": {
    "name": "ipython",
    "version": 2
   },
   "file_extension": ".py",
   "mimetype": "text/x-python",
   "name": "python",
   "nbconvert_exporter": "python",
   "pygments_lexer": "ipython2",
   "version": "2.7.12"
  }
 },
 "nbformat": 4,
 "nbformat_minor": 0
}
